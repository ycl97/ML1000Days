{
 "cells": [
  {
   "cell_type": "markdown",
   "metadata": {
    "colab_type": "text",
    "id": "tTJolmzeBLGr"
   },
   "source": [
    "# 作業目標: 使用python正規表達式對資料進行清洗處理\n",
    "\n",
    "這份作業我們會使用詐欺郵件的文本資料來作為清洗與處理的操作。\n",
    "[資料集](https://www.kaggle.com/rtatman/fraudulent-email-corpus/data#)"
   ]
  },
  {
   "cell_type": "markdown",
   "metadata": {
    "colab_type": "text",
    "id": "vhv0OElTBLGs"
   },
   "source": [
    "### 讀入資料文本\n",
    "因原始文本較大，先使用部份擷取的**sample_emails.txt**來進行練習"
   ]
  },
  {
   "cell_type": "code",
   "execution_count": 19,
   "metadata": {
    "colab": {},
    "colab_type": "code",
    "id": "a0BdDqt1BLGt"
   },
   "outputs": [],
   "source": [
    "#讀取文本資料\n",
    "with open('/Users/chrissie/Documents/GitHub/ML1000Days/homework/Day4/sample_emails.txt', 'r') as file:\n",
    "    sample_corpus = file.read()"
   ]
  },
  {
   "cell_type": "code",
   "execution_count": 4,
   "metadata": {
    "colab": {},
    "colab_type": "code",
    "id": "XQbjXNKdBLGx",
    "outputId": "97497027-4c29-4dcf-9cf4-94b0081dac54",
    "scrolled": true
   },
   "outputs": [
    {
     "data": {
      "text/plain": [
       "'From r  Wed Oct 30 21:41:56 2002\\nReturn-Path: <james_ngola2002@maktoob.com>\\nX-Sieve: cmu-sieve 2.0\\nReturn-Path: <james_ngola2002@maktoob.com>\\nMessage-Id: <200210310241.g9V2fNm6028281@cs.CU>\\nFrom: \"MR. JAMES NGOLA.\" <james_ngola2002@maktoob.com>\\nReply-To: james_ngola2002@maktoob.com\\nTo: webmaster@aclweb.org\\nDate: Thu, 31 Oct 2002 02:38:20 +0000\\nSubject: URGENT BUSINESS ASSISTANCE AND PARTNERSHIP\\nX-Mailer: Microsoft Outlook Express 5.00.2919.6900 DM\\nMIME-Version: 1.0\\nContent-Type: text/plain; charset=\"us-ascii\"\\nContent-Transfer-Encoding: 8bit\\nX-MIME-Autoconverted: from quoted-printable to 8bit by sideshowmel.si.UM id g9V2foW24311\\nStatus: O\\n\\nFROM:MR. JAMES NGOLA.\\nCONFIDENTIAL TEL: 233-27-587908.\\nE-MAIL: (james_ngola2002@maktoob.com).\\n\\nURGENT BUSINESS ASSISTANCE AND PARTNERSHIP.\\n\\n\\nDEAR FRIEND,\\n\\nI AM ( DR.) JAMES NGOLA, THE PERSONAL ASSISTANCE TO THE LATE CONGOLESE (PRESIDENT LAURENT KABILA) WHO WAS ASSASSINATED BY HIS BODY GUARD ON 16TH JAN. 2001.\\n\\n\\nTHE INCIDENT OCCURRED IN OUR PRESENCE WHILE WE WERE HOLDING MEETING WITH HIS EXCELLENCY OVER THE FINANCIAL RETURNS FROM THE DIAMOND SALES IN THE AREAS CONTROLLED BY (D.R.C.) DEMOCRATIC REPUBLIC OF CONGO FORCES AND THEIR FOREIGN ALLIES ANGOLA AND ZIMBABWE, HAVING RECEIVED THE PREVIOUS DAY (USD$100M) ONE HUNDRED MILLION UNITED STATES DOLLARS, CASH IN THREE DIPLOMATIC BOXES ROUTED THROUGH ZIMBABWE.\\n\\nMY PURPOSE OF WRITING YOU THIS LETTER IS TO SOLICIT FOR YOUR ASSISTANCE AS TO BE A COVER TO THE FUND AND ALSO COLLABORATION IN MOVING THE SAID FUND INTO YOUR BANK ACCOUNT THE SUM OF (USD$25M) TWENTY FIVE MILLION UNITED STATES DOLLARS ONLY, WHICH I DEPOSITED WITH A SECURITY COMPANY IN GHANA, IN A DIPLOMATIC BOX AS GOLDS WORTH (USD$25M) TWENTY FIVE MILLION UNITED STATES DOLLARS ONLY FOR SAFE KEEPING IN A SECURITY VAULT FOR ANY FURTHER INVESTMENT PERHAPS IN YOUR COUNTRY. \\n\\nYOU WERE INTRODUCED TO ME BY A RELIABLE FRIEND OF MINE WHO IS A TRAVELLER,AND ALSO A MEMBER OF CHAMBER OF COMMERCE AS A RELIABLE AND TRUSTWORTHY PERSON WHOM I CAN RELY ON AS FOREIGN PARTNER, EVEN THOUGH THE NATURE OF THE TRANSACTION WAS NOT REVEALED TO HIM FOR SECURITY REASONS.\\n\\n\\nTHE (USD$25M) WAS PART OF A PROCEEDS FROM DIAMOND TRADE MEANT FOR THE LATE PRESIDENT LAURENT KABILA WHICH WAS DELIVERED THROUGH ZIMBABWE IN DIPLOMATIC BOXES. THE BOXES WERE KEPT UNDER MY CUSTODY BEFORE THE SAD EVENT THAT TOOK THE LIFE OF (MR. PRESIDENT).THE CONFUSION THAT ENSUED AFTER THE ASSASSINATION AND THE SPORADIC SHOOTING AMONG THE FACTIONS, I HAVE TO RUN AWAY FROM THE COUNTRY FOR MY DEAR LIFE AS I AM NOT A SOLDIER BUT A CIVIL SERVANT I CROSSED RIVER CONGO TO OTHER SIDE OF CONGO LIBREVILLE FROM THERE I MOVED TO THE THIRD COUNTRY GHANA WHERE I AM PRESENTLY TAKING REFUGE. \\n\\nAS A MATTER OF FACT, WHAT I URGENTLY NEEDED FROM YOU IS YOUR ASSISTANCE IN MOVING THIS MONEY INTO YOUR ACCOUNT IN YOUR COUNTRY FOR INVESTMENT WITHOUT RAISING EYEBROW. FOR YOUR ASSISTANCE I WILL GIVE YOU 20% OF THE TOTAL SUM AS YOUR OWN SHARE WHEN THE MONEY GETS TO YOUR ACCOUNT, WHILE 75% WILL BE FOR ME, OF WHICH WITH YOUR KIND ADVICE I HOPE TO INVEST IN PROFITABLE VENTURE IN YOUR COUNTRY IN OTHER TO SETTLE DOWN FOR MEANINGFUL LIFE, AS I AM TIRED OF LIVING IN A WAR ENVIRONMENT. \\n\\nTHE REMAINING 5% WILL BE USED TO OFFSET ANY COST INCURRED IN THE CAUSE OF MOVING THE MONEY TO YOUR ACCOUNT. IF THE PROPOSAL IS ACCEPTABLE TO YOU PLEASE CONTACT ME IMMEDIATELY THROUGH THE ABOVE TELEPHONE AND E-MAIL, TO ENABLE ME ARRANGE FACE TO FACE MEETING WITH YOU IN GHANA FOR THE CLEARANCE OF THE FUNDS BEFORE TRANSFRING IT TO YOUR BANK ACCOUNT AS SEEING IS BELIEVING. \\n\\nFINALLY, IT IS IMPORTANT ALSO THAT I LET YOU UNDERSTAND THAT THERE IS NO RISK INVOLVED WHATSOEVER AS THE MONEY HAD NO RECORD IN KINSHASA FOR IT WAS MEANT FOR THE PERSONAL USE OF (MR. PRESIDEND ) BEFORE THE NEFARIOUS INCIDENT OCCURRED, AND ALSO I HAVE ALL THE NECESSARY DOCUMENTS AS REGARDS TO THE FUNDS INCLUDING THE (CERTIFICATE OF DEPOSIT), AS I AM THE DEPOSITOR OF THE CONSIGNMENT.\\n\\n\\nLOOKING FORWARD TO YOUR URGENT RESPONSE.\\n\\nYOUR SINCERELY,\\n\\nMR. JAMES NGOLA. \\n\\n\\n\\n\\n\\n\\n\\n\\n\\n\\nFrom r  Thu Oct 31 08:11:39 2002\\nReturn-Path: <bensul2004nng@spinfinder.com>\\nX-Sieve: cmu-sieve 2.0\\nReturn-Path: <bensul2004nng@spinfinder.com>\\nMessage-Id: <200210311310.g9VDANt24674@bloodwork.mr.itd.UM>\\nFrom: \"Mr. Ben Suleman\" <bensul2004nng@spinfinder.com>\\nDate: Thu, 31 Oct 2002 05:10:00\\nTo: R@M\\nSubject: URGENT ASSISTANCE /RELATIONSHIP (P)\\nMIME-Version: 1.0\\nContent-Type: text/plain;charset=\"iso-8859-1\"\\nContent-Transfer-Encoding: 7bit\\nStatus: O\\n\\nDear Friend,\\n\\nI am Mr. Ben Suleman a custom officer and work as Assistant controller of the Customs and Excise department Of the Federal Ministry of Internal Affairs stationed at the Murtala Mohammed International Airport, Ikeja, Lagos-Nigeria.\\n\\nAfter the sudden death of the former Head of state of Nigeria General Sanni Abacha on June 8th 1998 his aides and immediate members of his family were arrested while trying to escape from Nigeria in a Chartered jet to Saudi Arabia with 6 trunk boxes Marked \"Diplomatic Baggage\". Acting on a tip-off as they attempted to board the Air Craft,my officials carried out a thorough search on the air craft and discovered that the 6 trunk boxes contained foreign currencies amounting to US$197,570,000.00(One Hundred and  Ninety-Seven Million Five Hundred Seventy Thousand United States Dollars).\\n\\nI declared only (5) five boxes to the government and withheld one (1) in my custody containing the sum of (US$30,000,000.00) Thirty Million United States Dollars Only, which has been disguised to prevent their being discovered during transportation process.Due to several media reports on the late head of state about all the money him and his co-government officials stole from our government treasury amounting\\nto US$55 Billion Dollars (ref:ngrguardiannews.com) of July 2nd 1999. Even the London times of July 1998 reported that General Abacha has over US$3.Billion dollars in one account overseas. We decided to conceal this one (1)box till the situation is calm and quite on the issue. The box was thus deposited with a security company here in Nigeria and tagged as \"Precious Stones and Jewellry\" in other that its\\ncontent will not be discovered. Now that all is calm, we (myself and two of my colleagues in the operations team) are now ready to move this box out of the country through a diplomatic arrangement which is the safest means. \\n\\nHowever as government officials the Civil Service Code of Conduct does not allow us by law to operate any foreign account or own foreign investment and the amount of money that can be found in our account\\ncannot be more than our salary on the average, thus our handicapp and our need for your assistance to help collect and keep safely in your account this money.\\n\\nTherefore we want you to assist us in moving this money out of Nigeria. We shall definitely compensate you handsomely for the assistance. We can do this by instructing the Security Company here in Nigeria to\\nmove the consignment to their affiliate branch office outside Nigeria through diplomatic means and the consignment will be termed as Precious Stones and Jewelleries\" which you bought during your visit to Nigeria and is being transfered to your country from here for safe keeping. Then we can arrange to meet at the destination country to take the delivery of the consignment. You will thereafter open an account there and lodge the Money there and gradually instruct remittance to your Country. \\n\\nThis business is 100% risk free for you so please treat this matter with utmost confidentiality .If you indicate your interest to assist us please just e-mail me for more Explanation on how we plan to execute the transaction.\\n\\nExpecting your response urgently.\\n\\nBest regards,\\n\\nMr. Ben Suleman\\n\\nFrom r  Thu Oct 31 17:27:16 2002\\nReturn-Path: <obong_715@epatra.com>\\nX-Sieve: cmu-sieve 2.0\\nReturn-Path: <obong_715@epatra.com>\\nMessage-Id: <200210312227.g9VMQvDj017948@bluewhale.cs.CU>\\nFrom: \"PRINCE OBONG ELEME\" <obong_715@epatra.com>\\nReply-To: obong_715@epatra.com\\nTo: webmaster@aclweb.org\\nDate: Thu, 31 Oct 2002 22:17:55 +0100\\nSubject: GOOD DAY TO YOU\\nX-Mailer: Microsoft Outlook Express 5.00.2919.6900DM\\nMIME-Version: 1.0\\nContent-Type: text/plain; charset=\"us-ascii\"\\nContent-Transfer-Encoding: 8bit\\nX-MIME-Autoconverted: from quoted-printable to 8bit by sideshowmel.si.UM id g9VMRBW20642\\nStatus: RO\\n\\nFROM HIS ROYAL MAJESTY (HRM) CROWN RULER OF ELEME KINGDOM \\nCHIEF DANIEL ELEME, PHD, EZE 1 OF ELEME.E-MAIL \\nADDRESS:obong_715@epatra.com  \\n\\nATTENTION:PRESIDENT,CEO Sir/ Madam. \\n\\nThis letter might surprise you because we have met\\nneither in person nor by correspondence. But I believe\\nit is one day that you got to know somebody either in\\nphysical or through correspondence. \\n\\nI got your contact through discreet inquiry from the\\nchambers of commerce and industry of your country on\\nthe net, you and your organization were revealed as\\nbeing quite astute in private entrepreneurship, one\\nhas no doubt in your ability to handle a financialbusiness transaction. \\n\\nHowever, I am the first son of His Royal\\nmajesty,Obong.D. Eleme , and the traditional Ruler of\\nEleme Province in the oil producing area of River\\nState of Nigeria. I am making this contact to you in\\nrespect of US$60,000,000.00 (Sixty Million United\\nState Dollars), which I inherited, from my latefather. \\n\\nThis money was accumulated from royalties paid to my\\nfather as compensation by the oil firms located in our\\narea as a result of oil presence on our land, which\\nhamper agriculture, which is our major source oflivelihood. \\n\\nUnfortunately my father died from protracted\\ndiabetes.But before his death he called my attention\\nand informed me that he lodged some funds on a two\\nboxes with a security firm with an open beneficiary\\nstatus. The lodgment security code number was also\\nrevealed to me, he then advised me to look for a\\nreliable business partner abroad, that will assist me\\nin investing the money in a lucrative business as a\\nresult of economic instability in Nigeria. So this is\\nthe main reason why I am contacting you for us to move\\nthis money from the security firm to any Country of\\nyour choice for investment purpose. \\n\\nSo I will like you to be the ultimate beneficiary, so\\nthat the funds can be moved in your name and\\nparticulars to any Country of your choice where it\\nwill be claimed and invested. Hence my father have had\\nintimated the security firm personnel that the\\nbeneficiary of the box is his foreign partner whose\\nparticulars will be forwarded to the firm when due. \\n\\nBut I will guide you Accordingly. As soon as the funds\\nreach, I will then come over to meet you in person, so\\nthat we can discuss physically on investment\\npotentials. Based on this assistance my Family and I\\nhave unanimously decided to give you 30% of the total\\nmoney, 5% for Charity home, 10% for expenses, which\\nmay arise during this transaction, Fax and phone bills\\ninclusive. The balance of 55% you will invest andmanaged for my Family. \\n\\nI hereby guarantee you that this is not government\\nmoney, it is not drug money and it is not money from\\narms deal. Though you have to maintain high degree of\\nconfidentiality on this matter. I will give more\\ndetails about the proceedings of this transaction as\\nsoon as I receive your favorable reply. \\n\\nPlease reply to my Email Address:obong_715@epatra.com\\nI hope this will be the beginning of a prosperous\\nrelationship between my family and your family. \\n\\nNevertheless if you are for any reason not interested,\\nkindly inform me immediately so that I will look foranother contact. \\n\\nI am waiting for your quick response. \\n\\nYours faithfully, \\n\\nPrince Obong Abbot \\n'"
      ]
     },
     "execution_count": 4,
     "metadata": {},
     "output_type": "execute_result"
    }
   ],
   "source": [
    "sample_corpus"
   ]
  },
  {
   "cell_type": "markdown",
   "metadata": {
    "colab_type": "text",
    "id": "aUg8HenSBLG2"
   },
   "source": [
    "### 讀取寄件者資訊\n",
    "觀察文本資料可以發現, 寄件者資訊都符合以下格式\n",
    "\n",
    "`From: <收件者姓名> <收件者電子郵件>`"
   ]
  },
  {
   "cell_type": "code",
   "execution_count": 6,
   "metadata": {
    "colab": {},
    "colab_type": "code",
    "id": "YgsUuHsfBLG2"
   },
   "outputs": [],
   "source": [
    "import re\n",
    "\n",
    "pattern = \"From\\:.*(?<=\\>)\"\n",
    "x1 = re.findall(pattern, sample_corpus)"
   ]
  },
  {
   "cell_type": "code",
   "execution_count": 8,
   "metadata": {
    "colab": {},
    "colab_type": "code",
    "id": "pofRrOGhBLG5",
    "outputId": "28eb134d-2dfa-4743-fae8-1f0abda25968"
   },
   "outputs": [
    {
     "data": {
      "text/plain": [
       "['From: \"MR. JAMES NGOLA.\" <james_ngola2002@maktoob.com>',\n",
       " 'From: \"Mr. Ben Suleman\" <bensul2004nng@spinfinder.com>',\n",
       " 'From: \"PRINCE OBONG ELEME\" <obong_715@epatra.com>']"
      ]
     },
     "execution_count": 8,
     "metadata": {},
     "output_type": "execute_result"
    }
   ],
   "source": [
    "x1"
   ]
  },
  {
   "cell_type": "markdown",
   "metadata": {
    "colab_type": "text",
    "id": "Ac8KHAqTBLG7"
   },
   "source": [
    "### 只讀取寄件者姓名"
   ]
  },
  {
   "cell_type": "code",
   "execution_count": 12,
   "metadata": {
    "colab": {},
    "colab_type": "code",
    "id": "coBDE2iBBLG8",
    "outputId": "aada7b60-56bb-45ae-f25f-941218a541c2"
   },
   "outputs": [
    {
     "name": "stdout",
     "output_type": "stream",
     "text": [
      "\"MR. JAMES NGOLA.\"\n",
      "\"Mr. Ben Suleman\"\n",
      "\"PRINCE OBONG ELEME\"\n"
     ]
    }
   ],
   "source": [
    "for m in x1:\n",
    "    pattern2 = \"(?=\\\").*(?<=\\\")\"\n",
    "    x2 = re.search(pattern2, m)\n",
    "    \n",
    "    print(x2.group())"
   ]
  },
  {
   "cell_type": "markdown",
   "metadata": {
    "colab_type": "text",
    "id": "gaJefecaBLG-"
   },
   "source": [
    "### 只讀取寄件者電子信箱"
   ]
  },
  {
   "cell_type": "code",
   "execution_count": 13,
   "metadata": {
    "colab": {},
    "colab_type": "code",
    "id": "G55ADKW_BLG_",
    "outputId": "7f3d9657-87b9-4c78-d324-3df919ee84a7"
   },
   "outputs": [
    {
     "name": "stdout",
     "output_type": "stream",
     "text": [
      "james_ngola2002@maktoob.com\n",
      "bensul2004nng@spinfinder.com\n",
      "obong_715@epatra.com\n"
     ]
    }
   ],
   "source": [
    "for m in x1:\n",
    "    pattern3 = \"\\w*@\\w*.com\"\n",
    "    x3 = re.search(pattern3, m)\n",
    "    \n",
    "    print(x3.group())"
   ]
  },
  {
   "cell_type": "markdown",
   "metadata": {
    "colab_type": "text",
    "id": "t-RXjNLiBLHC"
   },
   "source": [
    "### 只讀取電子信箱中的寄件機構資訊\n",
    "ex: james_ngola2002@maktoob.com --> 取maktoob"
   ]
  },
  {
   "cell_type": "code",
   "execution_count": 14,
   "metadata": {
    "colab": {},
    "colab_type": "code",
    "id": "qC2Sd6_SBLHC",
    "outputId": "14e4e148-a660-4a15-88ac-e781300c9767"
   },
   "outputs": [
    {
     "name": "stdout",
     "output_type": "stream",
     "text": [
      "maktoob\n",
      "spinfinder\n",
      "epatra\n"
     ]
    }
   ],
   "source": [
    "for m in x1:\n",
    "    pattern4 = \"(?<=\\@)\\w*\"\n",
    "    x4 = re.search(pattern4, m)\n",
    "    \n",
    "    print(x4.group())"
   ]
  },
  {
   "cell_type": "markdown",
   "metadata": {
    "colab_type": "text",
    "id": "vfzkuLCWBLHG"
   },
   "source": [
    "### 結合上面的配對方式, 將寄件者的帳號與機構訊返回\n",
    "ex: james_ngola2002@maktoob.com --> [james_ngola2002, maktoob]"
   ]
  },
  {
   "cell_type": "code",
   "execution_count": 17,
   "metadata": {
    "colab": {},
    "colab_type": "code",
    "id": "t3lTRThcBLHG",
    "outputId": "e94f295a-ffa4-4897-dc43-e93991aac20e"
   },
   "outputs": [
    {
     "name": "stdout",
     "output_type": "stream",
     "text": [
      "james_ngola2002, maktoob\n",
      "bensul2004nng, spinfinder\n",
      "obong_715, epatra\n"
     ]
    }
   ],
   "source": [
    "for m in x1:\n",
    "    pattern5 = \"(?<=\\@)\\w*|\\w+(?=\\@)\"\n",
    "    x5 = re.findall(pattern5, m)\n",
    "    \n",
    "    print('{}, {}'.format(x5[0], x5[1]))"
   ]
  },
  {
   "cell_type": "markdown",
   "metadata": {
    "colab_type": "text",
    "id": "Yl-BMduNBLHJ"
   },
   "source": [
    "### 使用正規表達式對email資料進行處理\n",
    "這裡我們會使用到python其他的套件協助處理(ex: pandas, email, etc)，這裡我們只需要專注在正規表達式上即可，其他的套件是方便我們整理與處理資料。"
   ]
  },
  {
   "cell_type": "markdown",
   "metadata": {
    "colab_type": "text",
    "id": "kqCacQ9tBLHJ"
   },
   "source": [
    "### 讀取與切分Email\n",
    "讀入的email為一個長字串，利用正規表達式切割讀入的資料成一封一封的email，並將結果以list表示。\n",
    "\n",
    "輸出: [email_1, email_2, email_3, ....]"
   ]
  },
  {
   "cell_type": "code",
   "execution_count": 18,
   "metadata": {
    "colab": {},
    "colab_type": "code",
    "id": "k9BCVTqoBLHK",
    "outputId": "656ffc81-cb9b-4174-8511-9013985c4cad"
   },
   "outputs": [
    {
     "name": "stdout",
     "output_type": "stream",
     "text": [
      "3977\n"
     ]
    }
   ],
   "source": [
    "import re\n",
    "import pandas as pd\n",
    "import email\n",
    "\n",
    "###讀取文本資料:fradulent_emails.txt###    \n",
    "with open('/Users/chrissie/Documents/GitHub/ML1000Days/homework/Day4/fradulent_emails.txt', 'r', encoding=\"utf8\", errors='ignore') as file2:\n",
    "    fradulent = file2.read()\n",
    "    \n",
    "    #print(fradulent)\n",
    "    \n",
    "###切割讀入的資料成一封一封的email###\n",
    "###我們可以使用list來儲存每一封email###\n",
    "###注意！這裡請仔細觀察sample資料，看資料是如何切分不同email###\n",
    "\n",
    "# From r  Sat Nov 16 08:34:18 2002\n",
    "emails = fradulent.split(r'From r  ')\n",
    "\n",
    "print(len(emails)) #查看有多少封email "
   ]
  },
  {
   "cell_type": "markdown",
   "metadata": {
    "colab_type": "text",
    "id": "e9IN-2o0BLHM"
   },
   "source": [
    "### 從文本中擷取所有寄件者與收件者的姓名和地址"
   ]
  },
  {
   "cell_type": "code",
   "execution_count": 35,
   "metadata": {
    "colab": {},
    "colab_type": "code",
    "id": "d_WRYFpcBLHM"
   },
   "outputs": [
    {
     "name": "stdout",
     "output_type": "stream",
     "text": [
      "{'sender_name': 'MR. JAMES NGOLA.', 'sender_address': '<james_ngola2002@maktoob.com>'}\n",
      "{'sender_name': 'MR. JAMES NGOLA.', 'sender_address': '<james_ngola2002@maktoob.com>', 'receiver_name': 'webmaster', 'receiver_address': 'webmaster@aclweb.org', 'date': 'Date: Thu, 31 Oct 2002 02:38:20 '}\n",
      "{'sender_name': 'Mr. Ben Suleman', 'sender_address': '<bensul2004nng@spinfinder.com>'}\n",
      "{'sender_name': 'Mr. Ben Suleman', 'sender_address': '<bensul2004nng@spinfinder.com>', 'receiver_name': 'R', 'receiver_address': 'R@M', 'date': None}\n",
      "{'sender_name': 'PRINCE OBONG ELEME', 'sender_address': '<obong_715@epatra.com>'}\n",
      "{'sender_name': 'PRINCE OBONG ELEME', 'sender_address': '<obong_715@epatra.com>', 'receiver_name': 'webmaster', 'receiver_address': 'webmaster@aclweb.org', 'date': 'Date: Thu, 31 Oct 2002 22:17:55 '}\n",
      "{'sender_name': 'PRINCE OBONG ELEME', 'sender_address': '<obong_715@epatra.com>'}\n",
      "{'sender_name': 'PRINCE OBONG ELEME', 'sender_address': '<obong_715@epatra.com>', 'receiver_name': 'webmaster', 'receiver_address': 'webmaster@aclweb.org', 'date': None}\n",
      "{'sender_name': 'Maryam Abacha', 'sender_address': '<m_abacha03@www.com>'}\n",
      "{'sender_name': 'Maryam Abacha', 'sender_address': '<m_abacha03@www.com>', 'receiver_name': 'R', 'receiver_address': 'R@M', 'date': 'Date: Fri, 1 Nov 2002 01:45:04 '}\n",
      "{'sender_name': None, 'sender_address': None}\n",
      "{'sender_name': None, 'sender_address': None, 'receiver_name': 'davidkuta', 'receiver_address': 'davidkuta@yahoo.com', 'date': 'Date: Sat, 02 Nov 2002 06:23:11 '}\n",
      "{'sender_name': 'Barrister tunde dosumu', 'sender_address': '<tunde_dosumu@lycos.com>'}\n",
      "{'sender_name': 'Barrister tunde dosumu', 'sender_address': '<tunde_dosumu@lycos.com>', 'receiver_name': None, 'receiver_address': None, 'date': None}\n",
      "{'sender_name': 'William Drallo', 'sender_address': '<william2244drallo@maktoob.com>'}\n",
      "{'sender_name': 'William Drallo', 'sender_address': '<william2244drallo@maktoob.com>', 'receiver_name': 'webmaster', 'receiver_address': 'webmaster@aclweb.org', 'date': 'Date: Sun, 3 Nov 2002 23:56:20 '}\n",
      "{'sender_name': 'MR USMAN ABDUL', 'sender_address': '<abdul_817@rediffmail.com>'}\n",
      "{'sender_name': 'MR USMAN ABDUL', 'sender_address': '<abdul_817@rediffmail.com>', 'receiver_name': 'R', 'receiver_address': 'R@M', 'date': None}\n",
      "{'sender_name': 'Tunde  Dosumu', 'sender_address': '<barrister_td@lycos.com>'}\n",
      "{'sender_name': 'Tunde  Dosumu', 'sender_address': '<barrister_td@lycos.com>', 'receiver_name': None, 'receiver_address': None, 'date': None}\n",
      "{'sender_name': None, 'sender_address': None}\n",
      "{'sender_name': None, 'sender_address': None, 'receiver_name': 'R', 'receiver_address': 'R@E', 'date': None}\n",
      "{'sender_name': 'Dr.Sam jordan', 'sender_address': '<sjordan@diplomats.com>'}\n",
      "{'sender_name': 'Dr.Sam jordan', 'sender_address': '<sjordan@diplomats.com>', 'receiver_name': 'R', 'receiver_address': 'R@M', 'date': None}\n",
      "{'sender_name': None, 'sender_address': None}\n",
      "{'sender_name': None, 'sender_address': None, 'receiver_name': 'webmaster', 'receiver_address': 'webmaster@aclweb.org', 'date': 'Date: Fri, 8 Nov 2002 10:12:26 '}\n",
      "{'sender_name': None, 'sender_address': None}\n",
      "{'sender_name': None, 'sender_address': None, 'receiver_name': 'R', 'receiver_address': 'R@M', 'date': 'Date: Mon, 11 Nov 2002 17:26:54 '}\n",
      "{'sender_name': 'COL. MICHAEL BUNDU', 'sender_address': '<mikebunduu1@rediffmail.com>'}\n",
      "{'sender_name': 'COL. MICHAEL BUNDU', 'sender_address': '<mikebunduu1@rediffmail.com>', 'receiver_name': 'R', 'receiver_address': 'R@E', 'date': None}\n",
      "{'sender_name': 'MRS MARIAM ABACHA', 'sender_address': '<elixwilliam@usa.com>'}\n",
      "{'sender_name': 'MRS MARIAM ABACHA', 'sender_address': '<elixwilliam@usa.com>', 'receiver_name': 'webmaster', 'receiver_address': 'webmaster@aclweb.org', 'date': 'Date: Thu, 14 Nov 2002 16:46:11 '}\n",
      "{'sender_name': ' DR. ANAYO AWKA ', 'sender_address': '<anayoawka@hotmail.com>'}\n",
      "{'sender_name': ' DR. ANAYO AWKA ', 'sender_address': '<anayoawka@hotmail.com>', 'receiver_name': 'webmaster', 'receiver_address': 'webmaster@aclweb.org', 'date': None}\n",
      "{'sender_name': ' DR. ANAYO AWKA ', 'sender_address': '<anayoawka@hotmail.com>'}\n",
      "{'sender_name': ' DR. ANAYO AWKA ', 'sender_address': '<anayoawka@hotmail.com>', 'receiver_name': 'webmaster', 'receiver_address': 'webmaster@aclweb.org', 'date': None}\n",
      "{'sender_name': 'Victor Aloma', 'sender_address': '<victorloma@netscape.net>'}\n",
      "{'sender_name': 'Victor Aloma', 'sender_address': '<victorloma@netscape.net>', 'receiver_name': 'ntcir-listmem', 'receiver_address': 'ntcir-listmem@newns.op.nii.ac.jp', 'date': None}\n"
     ]
    }
   ],
   "source": [
    "import re\n",
    "import pandas as pd\n",
    "import email\n",
    "\n",
    "with open('/Users/chrissie/Documents/GitHub/ML1000Days/homework/Day4/sample_emails.txt', 'r') as file:\n",
    "    sample_corpus = file.read()\n",
    "\n",
    "###讀取文本資料:fradulent_emails.txt###    \n",
    "with open('/Users/chrissie/Documents/GitHub/ML1000Days/homework/Day4/fradulent_emails.txt', 'r', encoding=\"utf8\", errors='ignore') as file2:\n",
    "    fradulent = file2.read()\n",
    "    \n",
    "    #print(fradulent)\n",
    "    \n",
    "    \n",
    "    \n",
    "###切割讀入的資料成一封一封的email###\n",
    "###我們可以使用list來儲存每一封email###\n",
    "###注意！這裡請仔細觀察sample資料，看資料是如何切分不同email###\n",
    "\n",
    "# From r  Sat Nov 16 08:34:18 2002\n",
    "\n",
    "emails = fradulent.split(r'From r  ')\n",
    "\n",
    "\n",
    "\n",
    "#print(len(emails)) #查看有多少封email    \n",
    "\n",
    "\n",
    "emails_list = [] #創建空list來儲存所有email資訊\n",
    "\n",
    "for mail in emails[1:20]: #只取前20筆資料 (處理速度比較快)\n",
    "    emails_dict = dict() #創建空字典儲存資訊\n",
    "    ###取得寄件者姓名與地址###\n",
    "    \n",
    "    #Step1: 取的寄件者資訊 (hint: From:)\n",
    "    #<your code>#\n",
    "    # From: \"Victor Aloma\" <victorloma@netscape.net>\n",
    "    sender = re.search(r'From:\\s*(\\\".+\\\")\\s+\\<.+\\>', mail)\n",
    "    #print(type(sender), sender)\n",
    "    \n",
    "    #Step2: 取的姓名與地址 (hint: 要注意有時會有沒取到配對的情況)\n",
    "    #<your code>#\n",
    "    if sender != None:\n",
    "        s_name= re.search(r'(?<=\\\").+(?=\\\")', sender.group())\n",
    "        #print(s_name.group())\n",
    "        s_addr=re.search(r'\\<(\\w+.*@.+)\\>', sender.group())\n",
    "        #print(s_address.group())\n",
    "    else:\n",
    "        s_name = None\n",
    "        s_addr =None\n",
    "    \n",
    "    #Step3: 將取得的姓名與地址存入字典中\n",
    "    #<your code>#\n",
    "    if sender != None:\n",
    "        emails_dict['sender_name'] = s_name.group()\n",
    "        emails_dict['sender_address'] = s_addr.group()\n",
    "    else:\n",
    "        emails_dict['sender_name'] = s_name\n",
    "        emails_dict['sender_address'] = s_addr\n",
    "    print(emails_dict)\n",
    "\n",
    "                #https://blog.csdn.net/hongyiWeng/article/details/99823437\n",
    "\n",
    "    \n",
    "        \n",
    "    ###取得收件者姓名與地址###\n",
    "    #Step1: 取得寄件者資訊 (hint: To:)\n",
    "    receiver = re.search('(?<!-)To:\\s*.+@.+', mail)\n",
    "    #print(receiver)\n",
    "    \n",
    "    #Step2: 取得姓名與地址 (hint: 要注意有時會有沒取到配對的情況)\n",
    "    if receiver is not None:\n",
    "        r_name = re.search(r'(?<= ).+(?=@)', receiver.group())\n",
    "        #print(r_name.group())\n",
    "        \n",
    "        r_addr = re.search(r'(?<=To: ).+', receiver.group())\n",
    "        #print(r_addr.group())\n",
    "        \n",
    "    else:\n",
    "        r_name = None\n",
    "        r_addr = None        \n",
    "        \n",
    "        \n",
    "    #Step3: 將取得的姓名與地址存入字典中\n",
    "    if receiver is not None:\n",
    "        emails_dict['receiver_name'] = r_name.group()        \n",
    "        emails_dict['receiver_address'] = r_addr.group()   \n",
    "        \n",
    "    else:\n",
    "        emails_dict['receiver_name'] = r_name        \n",
    "        emails_dict['receiver_address'] = r_addr\n",
    "        \n",
    "        \n",
    "\n",
    "    ###取得信件日期###\n",
    "    #Step1: 取得日期資訊 (hint: Date:)\n",
    "    date_info = re.search('Date:.*(?=\\+)', mail)\n",
    "    #print(date_info)\n",
    "    \n",
    "    #Step2: 取得詳細日期(只需取得DD MMM YYYY)\n",
    "    \n",
    "    if date_info is not None:\n",
    "        date = re.search('(?<=\\, ).{11}', date_info.group())\n",
    "        \n",
    "    else:\n",
    "        date = None\n",
    "        \n",
    "    #Step3: 將取得的日期資訊存入字典中\n",
    "    \n",
    "    if date_info is not None:\n",
    "        emails_dict['date'] = date_info.group()\n",
    "        \n",
    "    else:\n",
    "        emails_dict['date'] = date  \n",
    "                \n",
    "    print(emails_dict)\n",
    "\n",
    "    ###取得信件主旨###\n",
    "    #Step1: 取得主旨資訊 (hint: Subject:)\n",
    "    # Subject: MICHAEL!\n",
    "    subject_info = re.search('Subject:.+', mail)\n",
    "\n",
    "    #print(subject_info.group())\n",
    "    \n",
    "    #Step2: 移除不必要文字 (hint: Subject: )\n",
    "    if subject_info is not None:\n",
    "        subject = re.sub(r'Subject: ', '', subject_info.group())\n",
    "    else:\n",
    "        subject = None\n",
    "    #print(email_subject)\n",
    "    \n",
    "    #Step3: 將取得的主旨存入字典中\n",
    "    emails_dict['subject'] = subject\n",
    "    \n",
    "    #print(emails_dict)\n",
    "    \n",
    "\n",
    "    ###取得信件內文###\n",
    "    #這裡我們使用email package來取出email內文 (可以不需深究，本章節重點在正規表達式)\n",
    "    \n",
    "    try:\n",
    "        full_email = email.message_from_string(mail)\n",
    "        body = full_email.get_payload()\n",
    "        emails_dict[\"email_body\"] = body\n",
    "    except:\n",
    "        emails_dict[\"email_body\"] = None\n",
    "    \n",
    "    ###將字典加入list###\n",
    "    #<your code>#\n",
    "    emails_list.append(emails_dict)        \n",
    "\n"
   ]
  },
  {
   "cell_type": "code",
   "execution_count": 36,
   "metadata": {
    "colab": {},
    "colab_type": "code",
    "id": "CBfQRiYPBLHP"
   },
   "outputs": [
    {
     "data": {
      "text/html": [
       "<div>\n",
       "<style scoped>\n",
       "    .dataframe tbody tr th:only-of-type {\n",
       "        vertical-align: middle;\n",
       "    }\n",
       "\n",
       "    .dataframe tbody tr th {\n",
       "        vertical-align: top;\n",
       "    }\n",
       "\n",
       "    .dataframe thead th {\n",
       "        text-align: right;\n",
       "    }\n",
       "</style>\n",
       "<table border=\"1\" class=\"dataframe\">\n",
       "  <thead>\n",
       "    <tr style=\"text-align: right;\">\n",
       "      <th></th>\n",
       "      <th>sender_name</th>\n",
       "      <th>sender_address</th>\n",
       "      <th>receiver_name</th>\n",
       "      <th>receiver_address</th>\n",
       "      <th>date</th>\n",
       "      <th>subject</th>\n",
       "      <th>email_body</th>\n",
       "    </tr>\n",
       "  </thead>\n",
       "  <tbody>\n",
       "    <tr>\n",
       "      <th>0</th>\n",
       "      <td>MR. JAMES NGOLA.</td>\n",
       "      <td>&lt;james_ngola2002@maktoob.com&gt;</td>\n",
       "      <td>webmaster</td>\n",
       "      <td>webmaster@aclweb.org</td>\n",
       "      <td>Date: Thu, 31 Oct 2002 02:38:20</td>\n",
       "      <td>URGENT BUSINESS ASSISTANCE AND PARTNERSHIP</td>\n",
       "      <td>Wed Oct 30 21:41:56 2002\\nReturn-Path: &lt;james_...</td>\n",
       "    </tr>\n",
       "    <tr>\n",
       "      <th>1</th>\n",
       "      <td>Mr. Ben Suleman</td>\n",
       "      <td>&lt;bensul2004nng@spinfinder.com&gt;</td>\n",
       "      <td>R</td>\n",
       "      <td>R@M</td>\n",
       "      <td>None</td>\n",
       "      <td>URGENT ASSISTANCE /RELATIONSHIP (P)</td>\n",
       "      <td>Thu Oct 31 08:11:39 2002\\nReturn-Path: &lt;bensul...</td>\n",
       "    </tr>\n",
       "    <tr>\n",
       "      <th>2</th>\n",
       "      <td>PRINCE OBONG ELEME</td>\n",
       "      <td>&lt;obong_715@epatra.com&gt;</td>\n",
       "      <td>webmaster</td>\n",
       "      <td>webmaster@aclweb.org</td>\n",
       "      <td>Date: Thu, 31 Oct 2002 22:17:55</td>\n",
       "      <td>GOOD DAY TO YOU</td>\n",
       "      <td>Thu Oct 31 17:27:16 2002\\nReturn-Path: &lt;obong_...</td>\n",
       "    </tr>\n",
       "    <tr>\n",
       "      <th>3</th>\n",
       "      <td>PRINCE OBONG ELEME</td>\n",
       "      <td>&lt;obong_715@epatra.com&gt;</td>\n",
       "      <td>webmaster</td>\n",
       "      <td>webmaster@aclweb.org</td>\n",
       "      <td>None</td>\n",
       "      <td>GOOD DAY TO YOU</td>\n",
       "      <td>Thu Oct 31 17:53:56 2002\\nReturn-Path: &lt;obong_...</td>\n",
       "    </tr>\n",
       "    <tr>\n",
       "      <th>4</th>\n",
       "      <td>Maryam Abacha</td>\n",
       "      <td>&lt;m_abacha03@www.com&gt;</td>\n",
       "      <td>R</td>\n",
       "      <td>R@M</td>\n",
       "      <td>Date: Fri, 1 Nov 2002 01:45:04</td>\n",
       "      <td>I Need Your Assistance.</td>\n",
       "      <td>Fri Nov  1 04:48:39 2002\\nReturn-Path: &lt;m_abac...</td>\n",
       "    </tr>\n",
       "    <tr>\n",
       "      <th>5</th>\n",
       "      <td>None</td>\n",
       "      <td>None</td>\n",
       "      <td>davidkuta</td>\n",
       "      <td>davidkuta@yahoo.com</td>\n",
       "      <td>Date: Sat, 02 Nov 2002 06:23:11</td>\n",
       "      <td>Partnership</td>\n",
       "      <td>Sat Nov  2 00:18:06 2002\\nReturn-Path: &lt;davidk...</td>\n",
       "    </tr>\n",
       "    <tr>\n",
       "      <th>6</th>\n",
       "      <td>Barrister tunde dosumu</td>\n",
       "      <td>&lt;tunde_dosumu@lycos.com&gt;</td>\n",
       "      <td>None</td>\n",
       "      <td>None</td>\n",
       "      <td>None</td>\n",
       "      <td>Urgent Attention</td>\n",
       "      <td>Sat Nov  2 05:10:24 2002\\nReturn-Path: &lt;tunde_...</td>\n",
       "    </tr>\n",
       "    <tr>\n",
       "      <th>7</th>\n",
       "      <td>William Drallo</td>\n",
       "      <td>&lt;william2244drallo@maktoob.com&gt;</td>\n",
       "      <td>webmaster</td>\n",
       "      <td>webmaster@aclweb.org</td>\n",
       "      <td>Date: Sun, 3 Nov 2002 23:56:20</td>\n",
       "      <td>URGENT BUSINESS PRPOSAL</td>\n",
       "      <td>Sun Nov  3 19:00:11 2002\\nReturn-Path: &lt;willia...</td>\n",
       "    </tr>\n",
       "    <tr>\n",
       "      <th>8</th>\n",
       "      <td>MR USMAN ABDUL</td>\n",
       "      <td>&lt;abdul_817@rediffmail.com&gt;</td>\n",
       "      <td>R</td>\n",
       "      <td>R@M</td>\n",
       "      <td>None</td>\n",
       "      <td>THANK YOU</td>\n",
       "      <td>Mon Nov  4 17:41:46 2002\\nReturn-Path: &lt;abdul_...</td>\n",
       "    </tr>\n",
       "    <tr>\n",
       "      <th>9</th>\n",
       "      <td>Tunde  Dosumu</td>\n",
       "      <td>&lt;barrister_td@lycos.com&gt;</td>\n",
       "      <td>None</td>\n",
       "      <td>None</td>\n",
       "      <td>None</td>\n",
       "      <td>Urgent Assistance</td>\n",
       "      <td>Tue Nov  5 05:25:07 2002\\nReturn-Path: &lt;barris...</td>\n",
       "    </tr>\n",
       "    <tr>\n",
       "      <th>10</th>\n",
       "      <td>None</td>\n",
       "      <td>None</td>\n",
       "      <td>R</td>\n",
       "      <td>R@E</td>\n",
       "      <td>None</td>\n",
       "      <td>IMPORTANT</td>\n",
       "      <td>Tue Nov  5 11:49:54 2002\\nReturn-Path: &lt;temijo...</td>\n",
       "    </tr>\n",
       "    <tr>\n",
       "      <th>11</th>\n",
       "      <td>Dr.Sam jordan</td>\n",
       "      <td>&lt;sjordan@diplomats.com&gt;</td>\n",
       "      <td>R</td>\n",
       "      <td>R@M</td>\n",
       "      <td>None</td>\n",
       "      <td>URGENT ASSISTANCE.</td>\n",
       "      <td>Thu Nov  7 23:15:38 2002\\nReturn-Path: &lt;sjorda...</td>\n",
       "    </tr>\n",
       "    <tr>\n",
       "      <th>12</th>\n",
       "      <td>None</td>\n",
       "      <td>None</td>\n",
       "      <td>webmaster</td>\n",
       "      <td>webmaster@aclweb.org</td>\n",
       "      <td>Date: Fri, 8 Nov 2002 10:12:26</td>\n",
       "      <td>From: Barrister Peter Brown</td>\n",
       "      <td>Fri Nov  8 04:11:40 2002\\nReturn-Path: &lt;p_brow...</td>\n",
       "    </tr>\n",
       "    <tr>\n",
       "      <th>13</th>\n",
       "      <td>None</td>\n",
       "      <td>None</td>\n",
       "      <td>R</td>\n",
       "      <td>R@M</td>\n",
       "      <td>Date: Mon, 11 Nov 2002 17:26:54</td>\n",
       "      <td>MICHAEL</td>\n",
       "      <td>Mon Nov 11 11:05:13 2002\\nReturn-Path: &lt;mic_k1...</td>\n",
       "    </tr>\n",
       "    <tr>\n",
       "      <th>14</th>\n",
       "      <td>COL. MICHAEL BUNDU</td>\n",
       "      <td>&lt;mikebunduu1@rediffmail.com&gt;</td>\n",
       "      <td>R</td>\n",
       "      <td>R@E</td>\n",
       "      <td>None</td>\n",
       "      <td>*****SPAM***** IMPORTANT</td>\n",
       "      <td>Tue Nov 12 11:08:15 2002\\nReturn-Path: &lt;mikebu...</td>\n",
       "    </tr>\n",
       "    <tr>\n",
       "      <th>15</th>\n",
       "      <td>MRS MARIAM ABACHA</td>\n",
       "      <td>&lt;elixwilliam@usa.com&gt;</td>\n",
       "      <td>webmaster</td>\n",
       "      <td>webmaster@aclweb.org</td>\n",
       "      <td>Date: Thu, 14 Nov 2002 16:46:11</td>\n",
       "      <td>TRUST TRANSACTION</td>\n",
       "      <td>Thu Nov 14 10:46:28 2002\\nReturn-Path: &lt;elixwi...</td>\n",
       "    </tr>\n",
       "    <tr>\n",
       "      <th>16</th>\n",
       "      <td>DR. ANAYO AWKA</td>\n",
       "      <td>&lt;anayoawka@hotmail.com&gt;</td>\n",
       "      <td>webmaster</td>\n",
       "      <td>webmaster@aclweb.org</td>\n",
       "      <td>None</td>\n",
       "      <td>REQUEST FOR YOUR UNRESERVED ASSISTANCE</td>\n",
       "      <td>Thu Nov 14 18:40:51 2002\\nReturn-Path: &lt;anayoa...</td>\n",
       "    </tr>\n",
       "    <tr>\n",
       "      <th>17</th>\n",
       "      <td>DR. ANAYO AWKA</td>\n",
       "      <td>&lt;anayoawka@hotmail.com&gt;</td>\n",
       "      <td>webmaster</td>\n",
       "      <td>webmaster@aclweb.org</td>\n",
       "      <td>None</td>\n",
       "      <td>REQUEST FOR YOUR UNRESERVED ASSISTANCE</td>\n",
       "      <td>Thu Nov 14 19:19:18 2002\\nReturn-Path: &lt;anayoa...</td>\n",
       "    </tr>\n",
       "    <tr>\n",
       "      <th>18</th>\n",
       "      <td>Victor Aloma</td>\n",
       "      <td>&lt;victorloma@netscape.net&gt;</td>\n",
       "      <td>ntcir-listmem</td>\n",
       "      <td>ntcir-listmem@newns.op.nii.ac.jp</td>\n",
       "      <td>None</td>\n",
       "      <td>Urgent Assistance</td>\n",
       "      <td>Sat Nov 16 08:28:59 2002\\nReturn-Path: &lt;victor...</td>\n",
       "    </tr>\n",
       "  </tbody>\n",
       "</table>\n",
       "</div>"
      ],
      "text/plain": [
       "               sender_name                   sender_address  receiver_name  \\\n",
       "0         MR. JAMES NGOLA.    <james_ngola2002@maktoob.com>      webmaster   \n",
       "1          Mr. Ben Suleman   <bensul2004nng@spinfinder.com>              R   \n",
       "2       PRINCE OBONG ELEME           <obong_715@epatra.com>      webmaster   \n",
       "3       PRINCE OBONG ELEME           <obong_715@epatra.com>      webmaster   \n",
       "4            Maryam Abacha             <m_abacha03@www.com>              R   \n",
       "5                     None                             None      davidkuta   \n",
       "6   Barrister tunde dosumu         <tunde_dosumu@lycos.com>           None   \n",
       "7           William Drallo  <william2244drallo@maktoob.com>      webmaster   \n",
       "8           MR USMAN ABDUL       <abdul_817@rediffmail.com>              R   \n",
       "9            Tunde  Dosumu         <barrister_td@lycos.com>           None   \n",
       "10                    None                             None              R   \n",
       "11           Dr.Sam jordan          <sjordan@diplomats.com>              R   \n",
       "12                    None                             None      webmaster   \n",
       "13                    None                             None              R   \n",
       "14      COL. MICHAEL BUNDU     <mikebunduu1@rediffmail.com>              R   \n",
       "15       MRS MARIAM ABACHA            <elixwilliam@usa.com>      webmaster   \n",
       "16         DR. ANAYO AWKA           <anayoawka@hotmail.com>      webmaster   \n",
       "17         DR. ANAYO AWKA           <anayoawka@hotmail.com>      webmaster   \n",
       "18            Victor Aloma        <victorloma@netscape.net>  ntcir-listmem   \n",
       "\n",
       "                    receiver_address                              date  \\\n",
       "0               webmaster@aclweb.org  Date: Thu, 31 Oct 2002 02:38:20    \n",
       "1                                R@M                              None   \n",
       "2               webmaster@aclweb.org  Date: Thu, 31 Oct 2002 22:17:55    \n",
       "3               webmaster@aclweb.org                              None   \n",
       "4                                R@M   Date: Fri, 1 Nov 2002 01:45:04    \n",
       "5                davidkuta@yahoo.com  Date: Sat, 02 Nov 2002 06:23:11    \n",
       "6                               None                              None   \n",
       "7               webmaster@aclweb.org   Date: Sun, 3 Nov 2002 23:56:20    \n",
       "8                                R@M                              None   \n",
       "9                               None                              None   \n",
       "10                               R@E                              None   \n",
       "11                               R@M                              None   \n",
       "12              webmaster@aclweb.org   Date: Fri, 8 Nov 2002 10:12:26    \n",
       "13                               R@M  Date: Mon, 11 Nov 2002 17:26:54    \n",
       "14                               R@E                              None   \n",
       "15              webmaster@aclweb.org  Date: Thu, 14 Nov 2002 16:46:11    \n",
       "16              webmaster@aclweb.org                              None   \n",
       "17              webmaster@aclweb.org                              None   \n",
       "18  ntcir-listmem@newns.op.nii.ac.jp                              None   \n",
       "\n",
       "                                       subject  \\\n",
       "0   URGENT BUSINESS ASSISTANCE AND PARTNERSHIP   \n",
       "1          URGENT ASSISTANCE /RELATIONSHIP (P)   \n",
       "2                              GOOD DAY TO YOU   \n",
       "3                              GOOD DAY TO YOU   \n",
       "4                      I Need Your Assistance.   \n",
       "5                                  Partnership   \n",
       "6                             Urgent Attention   \n",
       "7                      URGENT BUSINESS PRPOSAL   \n",
       "8                                    THANK YOU   \n",
       "9                            Urgent Assistance   \n",
       "10                                   IMPORTANT   \n",
       "11                          URGENT ASSISTANCE.   \n",
       "12                 From: Barrister Peter Brown   \n",
       "13                                     MICHAEL   \n",
       "14                    *****SPAM***** IMPORTANT   \n",
       "15                           TRUST TRANSACTION   \n",
       "16      REQUEST FOR YOUR UNRESERVED ASSISTANCE   \n",
       "17      REQUEST FOR YOUR UNRESERVED ASSISTANCE   \n",
       "18                           Urgent Assistance   \n",
       "\n",
       "                                           email_body  \n",
       "0   Wed Oct 30 21:41:56 2002\\nReturn-Path: <james_...  \n",
       "1   Thu Oct 31 08:11:39 2002\\nReturn-Path: <bensul...  \n",
       "2   Thu Oct 31 17:27:16 2002\\nReturn-Path: <obong_...  \n",
       "3   Thu Oct 31 17:53:56 2002\\nReturn-Path: <obong_...  \n",
       "4   Fri Nov  1 04:48:39 2002\\nReturn-Path: <m_abac...  \n",
       "5   Sat Nov  2 00:18:06 2002\\nReturn-Path: <davidk...  \n",
       "6   Sat Nov  2 05:10:24 2002\\nReturn-Path: <tunde_...  \n",
       "7   Sun Nov  3 19:00:11 2002\\nReturn-Path: <willia...  \n",
       "8   Mon Nov  4 17:41:46 2002\\nReturn-Path: <abdul_...  \n",
       "9   Tue Nov  5 05:25:07 2002\\nReturn-Path: <barris...  \n",
       "10  Tue Nov  5 11:49:54 2002\\nReturn-Path: <temijo...  \n",
       "11  Thu Nov  7 23:15:38 2002\\nReturn-Path: <sjorda...  \n",
       "12  Fri Nov  8 04:11:40 2002\\nReturn-Path: <p_brow...  \n",
       "13  Mon Nov 11 11:05:13 2002\\nReturn-Path: <mic_k1...  \n",
       "14  Tue Nov 12 11:08:15 2002\\nReturn-Path: <mikebu...  \n",
       "15  Thu Nov 14 10:46:28 2002\\nReturn-Path: <elixwi...  \n",
       "16  Thu Nov 14 18:40:51 2002\\nReturn-Path: <anayoa...  \n",
       "17  Thu Nov 14 19:19:18 2002\\nReturn-Path: <anayoa...  \n",
       "18  Sat Nov 16 08:28:59 2002\\nReturn-Path: <victor...  "
      ]
     },
     "execution_count": 36,
     "metadata": {},
     "output_type": "execute_result"
    }
   ],
   "source": [
    "#將處理結果轉化為dataframe\n",
    "emails_df = pd.DataFrame(emails_list)\n",
    "emails_df"
   ]
  },
  {
   "cell_type": "code",
   "execution_count": null,
   "metadata": {},
   "outputs": [],
   "source": []
  }
 ],
 "metadata": {
  "colab": {
   "name": "Python_regular_expression_作業.ipynb",
   "provenance": []
  },
  "kernelspec": {
   "display_name": "Python 3",
   "language": "python",
   "name": "python3"
  },
  "language_info": {
   "codemirror_mode": {
    "name": "ipython",
    "version": 3
   },
   "file_extension": ".py",
   "mimetype": "text/x-python",
   "name": "python",
   "nbconvert_exporter": "python",
   "pygments_lexer": "ipython3",
   "version": "3.8.5"
  }
 },
 "nbformat": 4,
 "nbformat_minor": 4
}
