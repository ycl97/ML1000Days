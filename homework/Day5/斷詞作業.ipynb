{
 "cells": [
  {
   "cell_type": "markdown",
   "metadata": {},
   "source": [
    "## 作業目標: 了解斷詞演算法的背後計算"
   ]
  },
  {
   "cell_type": "markdown",
   "metadata": {},
   "source": [
    "### 根據課程講述的內容, 請計算出下列剩餘所有情況的\n",
    "若有一個人連續觀察到三天水草都是乾燥的(Dry), 則這三天的天氣機率為何？(可參考講義第13頁)\n",
    "(Hint: 共有8種可能機率)\n",
    "\n",
    "```python\n",
    "states = ('sunny', 'rainy')\n",
    "observations = ('dry', 'damp', 'soggy')\n",
    "start_probability = {'sunny': 0.4, 'rainy': 0.6}\n",
    "transition_probability = {'sunny':{'sunny':0.6, 'rainy':0.4},\n",
    "                          'rainy': {'sunny':0.3, 'rainy':0.7}}\n",
    "emission_probatility = {'sunny': {'dry':0.6, 'damp':0.3, 'soggy':0.1},\n",
    "                        'rainy': {'dry':0.1, 'damp':0.4, 'soggy':0.5}}\n",
    "```"
   ]
  },
  {
   "cell_type": "markdown",
   "metadata": {},
   "source": [
    "```\n",
    "觀察狀態 = 'dry', 'dry', 'dry'\n",
    "Sunny, Sunny, Sunny: 0.4*(0.6)*0.6*(0.6)*0.6*(0.6) = 0.031104\n",
    "Sunny, Sunny, Rainy: 0.4*(0.6)*0.6*(0.6)*0.4*(0.1) = 0.003456\n",
    "Sunny, Rainy, Sunny: 0.4*(0.6)*0.4*(0.1)*0.3*(0.6) = 0.001728\n",
    "Rainy, Sunny, Sunny: 0.6*(0.1)*0.3*(0.6)*0.6*(0.6) = 0.003888\n",
    "Sunny, Rainy, Rainy: 0.4*(0.6)*0.4*(0.1)*0.7*(0.1) = 0.000672\n",
    "Rainy, Sunny, Rainy: 0.6*(0.1)*0.3*(0.6)*0.4*(0.1) = 0.000432\n",
    "Rainy, Rainy, Sunny: 0.6*(0.1)*0.7*(0.1)*0.3*(0.6) = 0.000756\n",
    "Rainy, Rainy, Rainy: 0.6*(0.1)*0.7*(0.1)*0.7*(0.1) = 0.000294\n",
    "\n",
    "最大機率為: Sunny, Sunny, Sunny\n",
    "```"
   ]
  },
  {
   "cell_type": "markdown",
   "metadata": {},
   "source": [
    "### 根據上述條件, 寫出Viterbi應用程式"
   ]
  },
  {
   "cell_type": "code",
   "execution_count": 1,
   "metadata": {},
   "outputs": [],
   "source": [
    "observations = ('dry', 'dry', 'dry') #實際上觀察到的狀態為dry, dry, dry\n",
    "states = ('sunny', 'rainy')\n",
    "start_probability = {'sunny': 0.4, 'rainy': 0.6}\n",
    "transition_probability = {'sunny':{'sunny':0.6, 'rainy':0.4},\n",
    "                          'rainy': {'sunny':0.3, 'rainy':0.7}}\n",
    "emission_probatility = {'sunny': {'dry':0.6, 'damp':0.3, 'soggy':0.1},\n",
    "                        'rainy': {'dry':0.1, 'damp':0.4, 'soggy':0.5}}"
   ]
  },
  {
   "cell_type": "code",
   "execution_count": 7,
   "metadata": {},
   "outputs": [
    {
     "name": "stdout",
     "output_type": "stream",
     "text": [
      "1. sunny, sunny, sunny: P = 0.031104\n",
      "2. sunny, sunny, rainy: P = 0.003456\n",
      "3. sunny, rainy, sunny: P = 0.001728\n",
      "4. sunny, rainy, rainy: P = 0.000672\n",
      "5. rainy, sunny, sunny: P = 0.003888\n",
      "6. rainy, sunny, rainy: P = 0.000432\n",
      "7. rainy, rainy, sunny: P = 0.000756\n",
      "8. rainy, rainy, rainy: P = 0.000294\n",
      "==========\n",
      "Max probability: no. 1 ('sunny', 'sunny', 'sunny') ,  0.031104\n"
     ]
    }
   ],
   "source": [
    "from itertools import product \n",
    "\n",
    "res_list = list(product(states,repeat=3))\n",
    "#print(res_list)\n",
    "#print('元素可以重複出現排列總數為:', len(res_list))\n",
    "#print(str(res_list[2][1])) #rainy\n",
    "sum_list = []\n",
    "\n",
    "\n",
    "def viterbi(obs, states, start_p, trans_p, emit_p):\n",
    "\n",
    "    i = 0\n",
    "        \n",
    "    for i in range(8):\n",
    "        pre_s = res_list[i][0]\n",
    "        current_s = res_list[i][1]\n",
    "            \n",
    "        s1_value = start_p[pre_s] * emit_p[pre_s][obs[0]]\n",
    "        #print('1_value = {}*{} = {}'.format(str(start_p[pre_s]), str(emit_p[pre_s][obs[0]]), s1_value))\n",
    "        \n",
    "        s2_value = trans_p[pre_s][current_s] * emit_p[current_s][obs[0]]\n",
    "        #print('2_value = {}*{} = {}'.format(str(trans_p[pre_s][current_s]), str(emit_p[current_s][obs[0]]), s2_value))\n",
    "\n",
    "        \n",
    "        pre_s = res_list[i][1]\n",
    "        current_s = res_list[i][2]\n",
    "        #print(str(pre_s),str(current_s))\n",
    "        s3_value = trans_p[pre_s][current_s] * emit_p[current_s][obs[0]]\n",
    "        #print('3_value = {}*{} = {}'.format(str(trans_p[pre_s][current_s]), str(emit_p[current_s][obs[0]]), s3_value))\n",
    "\n",
    "        v = round(s1_value * s2_value * s3_value, 6) #保留小數點後6位\n",
    "        sum_list.append(v)\n",
    "        \n",
    "        #print(i+1,v)\n",
    "        print('{}. {}, {}, {}: P = {}'.format(i+1, str(res_list[i][0]), str(res_list[i][1]), str(res_list[i][2]), v))\n",
    "        \n",
    "viterbi(observations,states,start_probability,transition_probability,emission_probatility)\n",
    "\n",
    "#print(sum_list)\n",
    "index = sum_list.index(max(sum_list))\n",
    "\n",
    "print(\"==========\")\n",
    "print(\"Max probability:\",\"no.\", index+1, res_list[index],\", \", max(sum_list))\n"
   ]
  }
 ],
 "metadata": {
  "kernelspec": {
   "display_name": "Python 3",
   "language": "python",
   "name": "python3"
  },
  "language_info": {
   "codemirror_mode": {
    "name": "ipython",
    "version": 3
   },
   "file_extension": ".py",
   "mimetype": "text/x-python",
   "name": "python",
   "nbconvert_exporter": "python",
   "pygments_lexer": "ipython3",
   "version": "3.8.5"
  }
 },
 "nbformat": 4,
 "nbformat_minor": 4
}
